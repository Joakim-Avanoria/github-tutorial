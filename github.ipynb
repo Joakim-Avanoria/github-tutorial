{
 "cells": [
  {
   "cell_type": "markdown",
   "id": "50fc9750",
   "metadata": {},
   "source": [
    "# Git & GitHub\n",
    "\n",
    "Kommandon:  \n",
    "- git add . = Lägger till alla filer för att sparas\n",
    "- git commit -m \"komentar\" = Sparar projektet i en snapshot"
   ]
  }
 ],
 "metadata": {
  "language_info": {
   "name": "python"
  }
 },
 "nbformat": 4,
 "nbformat_minor": 5
}
